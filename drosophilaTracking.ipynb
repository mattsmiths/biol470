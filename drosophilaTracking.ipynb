{
  "nbformat": 4,
  "nbformat_minor": 0,
  "metadata": {
    "colab": {
      "provenance": [],
      "authorship_tag": "ABX9TyNdkWpTuIhlH3cCpBchzP0o",
      "include_colab_link": true
    },
    "kernelspec": {
      "name": "python3",
      "display_name": "Python 3"
    },
    "language_info": {
      "name": "python"
    }
  },
  "cells": [
    {
      "cell_type": "markdown",
      "metadata": {
        "id": "view-in-github",
        "colab_type": "text"
      },
      "source": [
        "<a href=\"https://colab.research.google.com/github/mattsmiths/biol470/blob/main/drosophilaTracking.ipynb\" target=\"_parent\"><img src=\"https://colab.research.google.com/assets/colab-badge.svg\" alt=\"Open In Colab\"/></a>"
      ]
    },
    {
      "cell_type": "code",
      "execution_count": 1,
      "metadata": {
        "colab": {
          "base_uri": "https://localhost:8080/"
        },
        "id": "DWrG_QG1ske9",
        "outputId": "14db3d8e-ab74-4fcb-d091-e3448985cd29"
      },
      "outputs": [
        {
          "output_type": "stream",
          "name": "stdout",
          "text": [
            "Mounted at /content/drive\n"
          ]
        }
      ],
      "source": [
        "from google.colab import drive\n",
        "drive.mount('/content/drive')"
      ]
    },
    {
      "cell_type": "code",
      "source": [
        "#@title Click to import libraries\n",
        "import cv2 as cv\n",
        "import os\n",
        "import matplotlib.pyplot as plt\n",
        "import numpy as np\n",
        "import glob\n",
        "import pandas as pd"
      ],
      "metadata": {
        "id": "V6H-ZIPosrTH"
      },
      "execution_count": 3,
      "outputs": []
    },
    {
      "cell_type": "code",
      "source": [
        "tempVid = '/content/drive/MyDrive/BIOL470/Activity_3/group_matt/group_matt_flyD_air_2025-02-05_20-15-26.avi'\n",
        "in1 = cv.VideoCapture(tempVid)"
      ],
      "metadata": {
        "id": "lQdGgb4CtEN0"
      },
      "execution_count": 4,
      "outputs": []
    },
    {
      "cell_type": "code",
      "source": [
        "readIn,frame = in1.read()"
      ],
      "metadata": {
        "id": "qir4G24_tMcO"
      },
      "execution_count": 5,
      "outputs": []
    },
    {
      "cell_type": "code",
      "source": [
        "plt.imshow(frame[:,:,::-1])\n",
        "plt.axis('off')\n",
        "plt.show()"
      ],
      "metadata": {
        "id": "FpAhislHtQDE"
      },
      "execution_count": null,
      "outputs": []
    },
    {
      "cell_type": "code",
      "source": [
        "#We'll start by reloading the first image we worked with:\n",
        "\n",
        "# Convert the image to OpenCV format (NumPy array)\n",
        "image = frame.copy()#cv.cvtColor(frame, cv.COLOR_RGB2BGR)  # Ensure OpenCV format\n",
        "\n",
        "# Crop the upper-left 100x100 pixels\n",
        "#cropped_image = image[300:700, 300:700,]\n",
        "\n",
        "\n",
        "# Separate the color channels of the cropped image\n",
        "#cropped_blue_channel = cropped_image[:, :, 0]  # Blue\n",
        "#cropped_green_channel = cropped_image[:, :, 1]  # Green\n",
        "#cropped_red_channel = cropped_image[:, :, 2]  # Red\n",
        "\n",
        "# Separate the color channels of the full image\n",
        "blue_channel = image[:, :, 0]\n",
        "green_channel = image[:, :, 1]\n",
        "red_channel = image[:, :, 2]\n",
        "\n",
        "# Function to add a color bar\n",
        "def plot_with_colorbar(ax, data, cmap, title):\n",
        "    img = ax.imshow(data, cmap=cmap, vmin=0, vmax=255)\n",
        "    ax.set_title(title)\n",
        "    ax.axis(\"off\")\n",
        "    cbar = plt.colorbar(img, ax=ax, fraction=0.046, pad=0.04)\n",
        "    cbar.set_label(\"Intensity\", rotation=270, labelpad=10)\n",
        "\n",
        "# Plot the cropped image and its color channels\n",
        "fig, axs = plt.subplots(1, 4, figsize=(20, 10))\n",
        "\n",
        "\n",
        "# Full images\n",
        "axs[0].imshow(cv.cvtColor(image, cv.COLOR_BGR2RGB))\n",
        "axs[0].set_title(\"Full Image (Original)\")\n",
        "axs[0].axis(\"off\")\n",
        "\n",
        "plot_with_colorbar(axs[1], blue_channel, \"Blues\", \"Full Image (Blue Channel)\")\n",
        "plot_with_colorbar(axs[2], green_channel, \"Greens\", \"Full Image (Green Channel)\")\n",
        "plot_with_colorbar(axs[3], red_channel, \"Reds\", \"Full Image (Red Channel)\")\n",
        "\n",
        "plt.tight_layout()\n",
        "plt.show()\n"
      ],
      "metadata": {
        "id": "gogMxESTFCtt"
      },
      "execution_count": null,
      "outputs": []
    },
    {
      "cell_type": "code",
      "source": [
        "# Create binary mask for green\n",
        "red_mask = (image[:, :, 0] < 150) & (image[:, :, 1] > 100) & (image[:, :, 2] < 150)\n",
        "red_mask = red_mask.astype(np.uint8) * 255  # Convert to binary format (0 or 255)\n",
        "\n",
        "# Create binary mask for purple (Looks for high values in both red AND blue channels)\n",
        "purple_mask = (image[:, :, 0] > 150) & (image[:, :, 1] < 200) & (image[:, :, 2] > 150)\n",
        "purple_mask = purple_mask.astype(np.uint8) * 255  # Convert to binary format (0 or 255)\n",
        "\n",
        "# Display the original image and binary masks\n",
        "fig, axs = plt.subplots(1, 3, figsize=(18, 6))\n",
        "\n",
        "# Original image\n",
        "axs[0].imshow(image)\n",
        "axs[0].set_title(\"Original Image\")\n",
        "axs[0].axis(\"off\")\n",
        "\n",
        "# Red mask\n",
        "axs[1].imshow(red_mask, cmap=\"gray\")\n",
        "axs[1].set_title(\"Binary Mask for Green\")\n",
        "axs[1].axis(\"off\")\n",
        "\n",
        "# Purple mask\n",
        "axs[2].imshow(purple_mask, cmap=\"gray\")\n",
        "axs[2].set_title(\"Binary Mask for Purple\")\n",
        "axs[2].axis(\"off\")\n",
        "\n",
        "plt.tight_layout()\n",
        "plt.show()"
      ],
      "metadata": {
        "id": "IGbyPOwkGXqG"
      },
      "execution_count": null,
      "outputs": []
    },
    {
      "cell_type": "code",
      "source": [
        "tempIm = cv.cvtColor(image,cv.COLOR_BGR2GRAY)\n",
        "plt.imshow(tempIm,cmap=plt.cm.gray)"
      ],
      "metadata": {
        "id": "QrN6mYpGtQoc"
      },
      "execution_count": null,
      "outputs": []
    },
    {
      "cell_type": "code",
      "source": [
        "# black and white thresholding\n",
        "plt.imshow(tempIm<100)\n",
        "binaryThreshold = (tempIm<100).astype(np.uint8)"
      ],
      "metadata": {
        "id": "3A8o1kVHHgl1"
      },
      "execution_count": null,
      "outputs": []
    },
    {
      "cell_type": "code",
      "source": [
        "# Define a kernel for morphological operations\n",
        "kernel = np.ones((25, 25), np.uint8)  # 10x10 square kernel\n",
        "\n",
        "# Apply erosion to remove small white noise\n",
        "eroded_mask = cv.erode(binaryThreshold, kernel, iterations=1)\n",
        "\n",
        "# Apply dilation to restore the shape of larger regions\n",
        "dilated_mask = cv.dilate(eroded_mask, kernel, iterations=1)\n",
        "\n",
        "# Display the original mask and cleaned-up versions in a 2x2 layout\n",
        "fig, axs = plt.subplots(1, 3, figsize=(12, 12))\n",
        "\n",
        "# Original image\n",
        "axs[0].imshow(image)\n",
        "axs[0].set_title(\"Original Image\")\n",
        "axs[0].axis(\"off\")\n",
        "\n",
        "# Original purple mask\n",
        "axs[1].imshow(eroded_mask, cmap=\"gray\")\n",
        "axs[1].set_title(\"Eroded filter\")\n",
        "axs[1].axis(\"off\")\n",
        "\n",
        "# Original purple mask\n",
        "axs[2].imshow(dilated_mask, cmap=\"gray\")\n",
        "axs[2].set_title(\"Dilated filter\")\n",
        "axs[2].axis(\"off\")"
      ],
      "metadata": {
        "id": "ThQYPuUxH5UL"
      },
      "execution_count": null,
      "outputs": []
    },
    {
      "cell_type": "code",
      "source": [
        "frame = image.copy()\n",
        "# Find contours in the binary mask\n",
        "contours, _ = cv.findContours(dilated_mask, cv.RETR_TREE, cv.CHAIN_APPROX_SIMPLE)\n",
        "\n",
        "# Loop through each detected contour\n",
        "for contour in contours:\n",
        "    # Skip small contours (less than the specified area threshold)\n",
        "    if cv.contourArea(contour) > 7000 or cv.contourArea(contour) < 1500:\n",
        "        continue\n",
        "    x, y, w, h = cv.boundingRect(contour)\n",
        "\n",
        "    # Draw a rectangle around the detected green object\n",
        "    cv.rectangle(frame, (x, y), (x + w, y + h), (0, 255, 0), 6)\n",
        "\n",
        "# Display the original frame with bounding boxes\n",
        "cv.imwrite('/content/flyTracker.jpg', frame)"
      ],
      "metadata": {
        "colab": {
          "base_uri": "https://localhost:8080/"
        },
        "id": "z2cyjArkI94b",
        "outputId": "a94a2253-8a5e-4e1c-abbd-4c892e53037d"
      },
      "execution_count": 51,
      "outputs": [
        {
          "output_type": "execute_result",
          "data": {
            "text/plain": [
              "True"
            ]
          },
          "metadata": {},
          "execution_count": 51
        }
      ]
    },
    {
      "cell_type": "code",
      "source": [
        "np.shape(frame)"
      ],
      "metadata": {
        "colab": {
          "base_uri": "https://localhost:8080/"
        },
        "id": "foV_xdTfMLfK",
        "outputId": "204da4f7-0027-45f8-8e5d-7d4bc4b2a705"
      },
      "execution_count": 52,
      "outputs": [
        {
          "output_type": "execute_result",
          "data": {
            "text/plain": [
              "(3040, 4056, 3)"
            ]
          },
          "metadata": {},
          "execution_count": 52
        }
      ]
    },
    {
      "cell_type": "code",
      "source": [
        "kernel = np.ones((25, 25), np.uint8)  # 10x10 square kernel\n",
        "\n",
        "vid1 = cv.VideoWriter('/content/flyTracker.avi',cv.VideoWriter_fourcc('M','J','P','G'),10,(4056,3040))\n",
        "flyOut = {}\n",
        "for ele in range(0,100):\n",
        "\n",
        "  readIn,image = in1.read()\n",
        "  tempIm = cv.cvtColor(image,cv.COLOR_BGR2GRAY) < 100\n",
        "  binaryThreshold = (tempIm).astype(np.uint8)\n",
        "\n",
        "  # Apply erosion to remove small white noise\n",
        "  eroded_mask = cv.erode(binaryThreshold, kernel, iterations=1)\n",
        "\n",
        "  # Apply dilation to restore the shape of larger regions\n",
        "  dilated_mask = cv.dilate(eroded_mask, kernel, iterations=1)\n",
        "\n",
        "\n",
        "  contours, _ = cv.findContours(dilated_mask, cv.RETR_TREE, cv.CHAIN_APPROX_SIMPLE)\n",
        "  flycnt = 0\n",
        "  # Loop through each detected contour\n",
        "  for contour in contours:\n",
        "      # Skip small contours (less than the specified area threshold)\n",
        "      if cv.contourArea(contour) > 7000 or cv.contourArea(contour) < 1500:\n",
        "          continue\n",
        "      x, y, w, h = cv.boundingRect(contour)\n",
        "\n",
        "      xx = []\n",
        "      yy= []\n",
        "      for ele in np.squeeze(contour):\n",
        "        xx.append(ele[0])\n",
        "        yy.append(ele[1])\n",
        "      xx = np.nanmean(xx)\n",
        "      yy = np.nanmean(yy)\n",
        "\n",
        "      tN = 'fly'+str(flycnt)\n",
        "\n",
        "      if tN+'x' not in flyOut:\n",
        "        flyOut[tN+'x'] = []\n",
        "        flyOut[tN+'y'] = []\n",
        "\n",
        "      flyOut[tN+'x'].append(xx)\n",
        "      flyOut[tN+'y'].append(yy)\n",
        "\n",
        "\n",
        "      flycnt+=1\n",
        "      # Draw a rectangle around the detected green object\n",
        "      cv.rectangle(image, (x, y), (x + w, y + h), (0, 255, 0), 6)\n",
        "\n",
        "\n",
        "\n",
        "  flycnt=0\n",
        "  # Display the original frame with bounding boxes\n",
        "  vid1.write(image)\n",
        "vid1.release()"
      ],
      "metadata": {
        "id": "KFQdRgYE_MHZ"
      },
      "execution_count": 79,
      "outputs": []
    },
    {
      "cell_type": "code",
      "source": [
        "flyOut.keys()"
      ],
      "metadata": {
        "colab": {
          "base_uri": "https://localhost:8080/"
        },
        "id": "nE6wl1FcO7vK",
        "outputId": "62aab9dd-ebdb-4e45-9572-8d11afd78243"
      },
      "execution_count": 74,
      "outputs": [
        {
          "output_type": "execute_result",
          "data": {
            "text/plain": [
              "dict_keys(['fly0x', 'fly0y', 'fly1x', 'fly1y', 'fly2x', 'fly2y', 'fly3x', 'fly3y', 'fly4x', 'fly4y'])"
            ]
          },
          "metadata": {},
          "execution_count": 74
        }
      ]
    },
    {
      "cell_type": "code",
      "source": [
        "import pandas as pd"
      ],
      "metadata": {
        "id": "yKs7Otj2M3ax"
      },
      "execution_count": 75,
      "outputs": []
    },
    {
      "cell_type": "code",
      "source": [
        "csvOut = pd.DataFrame.from_dict(flyOut)\n",
        "csvOut.to_csv('/content/flyTracker.csv')"
      ],
      "metadata": {
        "id": "c1GGI4VXOcGd"
      },
      "execution_count": 76,
      "outputs": []
    },
    {
      "cell_type": "code",
      "source": [
        "csvOut"
      ],
      "metadata": {
        "colab": {
          "base_uri": "https://localhost:8080/",
          "height": 89
        },
        "id": "ry4ylV3LOf0l",
        "outputId": "cab4d3dc-d36a-4c04-c49c-396608a03060"
      },
      "execution_count": 78,
      "outputs": [
        {
          "output_type": "execute_result",
          "data": {
            "text/plain": [
              "         fly0x        fly0y        fly1x       fly1y    fly2x    fly2y  \\\n",
              "0  2577.372881  2430.084746  3459.145833  1715.90625  2483.28  1536.94   \n",
              "\n",
              "         fly3x        fly3y        fly4x       fly4y  \n",
              "0  2378.381818  1472.290909  2640.142857  196.357143  "
            ],
            "text/html": [
              "\n",
              "  <div id=\"df-98c503c8-9cd9-4a61-a0b8-1c6247f13d22\" class=\"colab-df-container\">\n",
              "    <div>\n",
              "<style scoped>\n",
              "    .dataframe tbody tr th:only-of-type {\n",
              "        vertical-align: middle;\n",
              "    }\n",
              "\n",
              "    .dataframe tbody tr th {\n",
              "        vertical-align: top;\n",
              "    }\n",
              "\n",
              "    .dataframe thead th {\n",
              "        text-align: right;\n",
              "    }\n",
              "</style>\n",
              "<table border=\"1\" class=\"dataframe\">\n",
              "  <thead>\n",
              "    <tr style=\"text-align: right;\">\n",
              "      <th></th>\n",
              "      <th>fly0x</th>\n",
              "      <th>fly0y</th>\n",
              "      <th>fly1x</th>\n",
              "      <th>fly1y</th>\n",
              "      <th>fly2x</th>\n",
              "      <th>fly2y</th>\n",
              "      <th>fly3x</th>\n",
              "      <th>fly3y</th>\n",
              "      <th>fly4x</th>\n",
              "      <th>fly4y</th>\n",
              "    </tr>\n",
              "  </thead>\n",
              "  <tbody>\n",
              "    <tr>\n",
              "      <th>0</th>\n",
              "      <td>2577.372881</td>\n",
              "      <td>2430.084746</td>\n",
              "      <td>3459.145833</td>\n",
              "      <td>1715.90625</td>\n",
              "      <td>2483.28</td>\n",
              "      <td>1536.94</td>\n",
              "      <td>2378.381818</td>\n",
              "      <td>1472.290909</td>\n",
              "      <td>2640.142857</td>\n",
              "      <td>196.357143</td>\n",
              "    </tr>\n",
              "  </tbody>\n",
              "</table>\n",
              "</div>\n",
              "    <div class=\"colab-df-buttons\">\n",
              "\n",
              "  <div class=\"colab-df-container\">\n",
              "    <button class=\"colab-df-convert\" onclick=\"convertToInteractive('df-98c503c8-9cd9-4a61-a0b8-1c6247f13d22')\"\n",
              "            title=\"Convert this dataframe to an interactive table.\"\n",
              "            style=\"display:none;\">\n",
              "\n",
              "  <svg xmlns=\"http://www.w3.org/2000/svg\" height=\"24px\" viewBox=\"0 -960 960 960\">\n",
              "    <path d=\"M120-120v-720h720v720H120Zm60-500h600v-160H180v160Zm220 220h160v-160H400v160Zm0 220h160v-160H400v160ZM180-400h160v-160H180v160Zm440 0h160v-160H620v160ZM180-180h160v-160H180v160Zm440 0h160v-160H620v160Z\"/>\n",
              "  </svg>\n",
              "    </button>\n",
              "\n",
              "  <style>\n",
              "    .colab-df-container {\n",
              "      display:flex;\n",
              "      gap: 12px;\n",
              "    }\n",
              "\n",
              "    .colab-df-convert {\n",
              "      background-color: #E8F0FE;\n",
              "      border: none;\n",
              "      border-radius: 50%;\n",
              "      cursor: pointer;\n",
              "      display: none;\n",
              "      fill: #1967D2;\n",
              "      height: 32px;\n",
              "      padding: 0 0 0 0;\n",
              "      width: 32px;\n",
              "    }\n",
              "\n",
              "    .colab-df-convert:hover {\n",
              "      background-color: #E2EBFA;\n",
              "      box-shadow: 0px 1px 2px rgba(60, 64, 67, 0.3), 0px 1px 3px 1px rgba(60, 64, 67, 0.15);\n",
              "      fill: #174EA6;\n",
              "    }\n",
              "\n",
              "    .colab-df-buttons div {\n",
              "      margin-bottom: 4px;\n",
              "    }\n",
              "\n",
              "    [theme=dark] .colab-df-convert {\n",
              "      background-color: #3B4455;\n",
              "      fill: #D2E3FC;\n",
              "    }\n",
              "\n",
              "    [theme=dark] .colab-df-convert:hover {\n",
              "      background-color: #434B5C;\n",
              "      box-shadow: 0px 1px 3px 1px rgba(0, 0, 0, 0.15);\n",
              "      filter: drop-shadow(0px 1px 2px rgba(0, 0, 0, 0.3));\n",
              "      fill: #FFFFFF;\n",
              "    }\n",
              "  </style>\n",
              "\n",
              "    <script>\n",
              "      const buttonEl =\n",
              "        document.querySelector('#df-98c503c8-9cd9-4a61-a0b8-1c6247f13d22 button.colab-df-convert');\n",
              "      buttonEl.style.display =\n",
              "        google.colab.kernel.accessAllowed ? 'block' : 'none';\n",
              "\n",
              "      async function convertToInteractive(key) {\n",
              "        const element = document.querySelector('#df-98c503c8-9cd9-4a61-a0b8-1c6247f13d22');\n",
              "        const dataTable =\n",
              "          await google.colab.kernel.invokeFunction('convertToInteractive',\n",
              "                                                    [key], {});\n",
              "        if (!dataTable) return;\n",
              "\n",
              "        const docLinkHtml = 'Like what you see? Visit the ' +\n",
              "          '<a target=\"_blank\" href=https://colab.research.google.com/notebooks/data_table.ipynb>data table notebook</a>'\n",
              "          + ' to learn more about interactive tables.';\n",
              "        element.innerHTML = '';\n",
              "        dataTable['output_type'] = 'display_data';\n",
              "        await google.colab.output.renderOutput(dataTable, element);\n",
              "        const docLink = document.createElement('div');\n",
              "        docLink.innerHTML = docLinkHtml;\n",
              "        element.appendChild(docLink);\n",
              "      }\n",
              "    </script>\n",
              "  </div>\n",
              "\n",
              "\n",
              "  <div id=\"id_d27619e4-c469-4669-be91-050c977d67c9\">\n",
              "    <style>\n",
              "      .colab-df-generate {\n",
              "        background-color: #E8F0FE;\n",
              "        border: none;\n",
              "        border-radius: 50%;\n",
              "        cursor: pointer;\n",
              "        display: none;\n",
              "        fill: #1967D2;\n",
              "        height: 32px;\n",
              "        padding: 0 0 0 0;\n",
              "        width: 32px;\n",
              "      }\n",
              "\n",
              "      .colab-df-generate:hover {\n",
              "        background-color: #E2EBFA;\n",
              "        box-shadow: 0px 1px 2px rgba(60, 64, 67, 0.3), 0px 1px 3px 1px rgba(60, 64, 67, 0.15);\n",
              "        fill: #174EA6;\n",
              "      }\n",
              "\n",
              "      [theme=dark] .colab-df-generate {\n",
              "        background-color: #3B4455;\n",
              "        fill: #D2E3FC;\n",
              "      }\n",
              "\n",
              "      [theme=dark] .colab-df-generate:hover {\n",
              "        background-color: #434B5C;\n",
              "        box-shadow: 0px 1px 3px 1px rgba(0, 0, 0, 0.15);\n",
              "        filter: drop-shadow(0px 1px 2px rgba(0, 0, 0, 0.3));\n",
              "        fill: #FFFFFF;\n",
              "      }\n",
              "    </style>\n",
              "    <button class=\"colab-df-generate\" onclick=\"generateWithVariable('csvOut')\"\n",
              "            title=\"Generate code using this dataframe.\"\n",
              "            style=\"display:none;\">\n",
              "\n",
              "  <svg xmlns=\"http://www.w3.org/2000/svg\" height=\"24px\"viewBox=\"0 0 24 24\"\n",
              "       width=\"24px\">\n",
              "    <path d=\"M7,19H8.4L18.45,9,17,7.55,7,17.6ZM5,21V16.75L18.45,3.32a2,2,0,0,1,2.83,0l1.4,1.43a1.91,1.91,0,0,1,.58,1.4,1.91,1.91,0,0,1-.58,1.4L9.25,21ZM18.45,9,17,7.55Zm-12,3A5.31,5.31,0,0,0,4.9,8.1,5.31,5.31,0,0,0,1,6.5,5.31,5.31,0,0,0,4.9,4.9,5.31,5.31,0,0,0,6.5,1,5.31,5.31,0,0,0,8.1,4.9,5.31,5.31,0,0,0,12,6.5,5.46,5.46,0,0,0,6.5,12Z\"/>\n",
              "  </svg>\n",
              "    </button>\n",
              "    <script>\n",
              "      (() => {\n",
              "      const buttonEl =\n",
              "        document.querySelector('#id_d27619e4-c469-4669-be91-050c977d67c9 button.colab-df-generate');\n",
              "      buttonEl.style.display =\n",
              "        google.colab.kernel.accessAllowed ? 'block' : 'none';\n",
              "\n",
              "      buttonEl.onclick = () => {\n",
              "        google.colab.notebook.generateWithVariable('csvOut');\n",
              "      }\n",
              "      })();\n",
              "    </script>\n",
              "  </div>\n",
              "\n",
              "    </div>\n",
              "  </div>\n"
            ],
            "application/vnd.google.colaboratory.intrinsic+json": {
              "type": "dataframe",
              "variable_name": "csvOut",
              "summary": "{\n  \"name\": \"csvOut\",\n  \"rows\": 1,\n  \"fields\": [\n    {\n      \"column\": \"fly0x\",\n      \"properties\": {\n        \"dtype\": \"number\",\n        \"std\": null,\n        \"min\": 2577.3728813559323,\n        \"max\": 2577.3728813559323,\n        \"num_unique_values\": 1,\n        \"samples\": [\n          2577.3728813559323\n        ],\n        \"semantic_type\": \"\",\n        \"description\": \"\"\n      }\n    },\n    {\n      \"column\": \"fly0y\",\n      \"properties\": {\n        \"dtype\": \"number\",\n        \"std\": null,\n        \"min\": 2430.084745762712,\n        \"max\": 2430.084745762712,\n        \"num_unique_values\": 1,\n        \"samples\": [\n          2430.084745762712\n        ],\n        \"semantic_type\": \"\",\n        \"description\": \"\"\n      }\n    },\n    {\n      \"column\": \"fly1x\",\n      \"properties\": {\n        \"dtype\": \"number\",\n        \"std\": null,\n        \"min\": 3459.1458333333335,\n        \"max\": 3459.1458333333335,\n        \"num_unique_values\": 1,\n        \"samples\": [\n          3459.1458333333335\n        ],\n        \"semantic_type\": \"\",\n        \"description\": \"\"\n      }\n    },\n    {\n      \"column\": \"fly1y\",\n      \"properties\": {\n        \"dtype\": \"number\",\n        \"std\": null,\n        \"min\": 1715.90625,\n        \"max\": 1715.90625,\n        \"num_unique_values\": 1,\n        \"samples\": [\n          1715.90625\n        ],\n        \"semantic_type\": \"\",\n        \"description\": \"\"\n      }\n    },\n    {\n      \"column\": \"fly2x\",\n      \"properties\": {\n        \"dtype\": \"number\",\n        \"std\": null,\n        \"min\": 2483.28,\n        \"max\": 2483.28,\n        \"num_unique_values\": 1,\n        \"samples\": [\n          2483.28\n        ],\n        \"semantic_type\": \"\",\n        \"description\": \"\"\n      }\n    },\n    {\n      \"column\": \"fly2y\",\n      \"properties\": {\n        \"dtype\": \"number\",\n        \"std\": null,\n        \"min\": 1536.94,\n        \"max\": 1536.94,\n        \"num_unique_values\": 1,\n        \"samples\": [\n          1536.94\n        ],\n        \"semantic_type\": \"\",\n        \"description\": \"\"\n      }\n    },\n    {\n      \"column\": \"fly3x\",\n      \"properties\": {\n        \"dtype\": \"number\",\n        \"std\": null,\n        \"min\": 2378.3818181818183,\n        \"max\": 2378.3818181818183,\n        \"num_unique_values\": 1,\n        \"samples\": [\n          2378.3818181818183\n        ],\n        \"semantic_type\": \"\",\n        \"description\": \"\"\n      }\n    },\n    {\n      \"column\": \"fly3y\",\n      \"properties\": {\n        \"dtype\": \"number\",\n        \"std\": null,\n        \"min\": 1472.290909090909,\n        \"max\": 1472.290909090909,\n        \"num_unique_values\": 1,\n        \"samples\": [\n          1472.290909090909\n        ],\n        \"semantic_type\": \"\",\n        \"description\": \"\"\n      }\n    },\n    {\n      \"column\": \"fly4x\",\n      \"properties\": {\n        \"dtype\": \"number\",\n        \"std\": null,\n        \"min\": 2640.1428571428573,\n        \"max\": 2640.1428571428573,\n        \"num_unique_values\": 1,\n        \"samples\": [\n          2640.1428571428573\n        ],\n        \"semantic_type\": \"\",\n        \"description\": \"\"\n      }\n    },\n    {\n      \"column\": \"fly4y\",\n      \"properties\": {\n        \"dtype\": \"number\",\n        \"std\": null,\n        \"min\": 196.35714285714286,\n        \"max\": 196.35714285714286,\n        \"num_unique_values\": 1,\n        \"samples\": [\n          196.35714285714286\n        ],\n        \"semantic_type\": \"\",\n        \"description\": \"\"\n      }\n    }\n  ]\n}"
            }
          },
          "metadata": {},
          "execution_count": 78
        }
      ]
    },
    {
      "cell_type": "code",
      "source": [],
      "metadata": {
        "id": "PzgaVHFZPCWJ"
      },
      "execution_count": null,
      "outputs": []
    }
  ]
}