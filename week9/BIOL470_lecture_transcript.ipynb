{
  "nbformat": 4,
  "nbformat_minor": 0,
  "metadata": {
    "colab": {
      "provenance": [],
      "authorship_tag": "ABX9TyMW40Dc/58PI2HwA+0fk1sP",
      "include_colab_link": true
    },
    "kernelspec": {
      "name": "python3",
      "display_name": "Python 3"
    },
    "language_info": {
      "name": "python"
    }
  },
  "cells": [
    {
      "cell_type": "markdown",
      "metadata": {
        "id": "view-in-github",
        "colab_type": "text"
      },
      "source": [
        "<a href=\"https://colab.research.google.com/github/mattsmiths/biol470/blob/main/week9/BIOL470_lecture_transcript.ipynb\" target=\"_parent\"><img src=\"https://colab.research.google.com/assets/colab-badge.svg\" alt=\"Open In Colab\"/></a>"
      ]
    },
    {
      "cell_type": "code",
      "source": [
        "#@title Click to copy the class code repository\n",
        "!git clone https://github.com/mattsmiths/biol470.git"
      ],
      "metadata": {
        "id": "iBkXPhpYaKlo"
      },
      "execution_count": null,
      "outputs": []
    },
    {
      "cell_type": "code",
      "source": [
        "phrase = 'um'"
      ],
      "metadata": {
        "id": "S2AONsoIuHtA"
      },
      "execution_count": null,
      "outputs": []
    },
    {
      "cell_type": "code",
      "execution_count": null,
      "metadata": {
        "colab": {
          "base_uri": "https://localhost:8080/",
          "height": 552
        },
        "id": "pbNY6vjgTlhk",
        "outputId": "bd91fd41-b1ad-44d1-8e29-20fb023e1a5d"
      },
      "outputs": [
        {
          "output_type": "stream",
          "name": "stdout",
          "text": [
            "Normalized sleep: 1.5\n",
            "115\n",
            "Normalized sleep: 6\n",
            "121\n",
            "Normalized sleep: 0\n",
            "57\n"
          ]
        },
        {
          "output_type": "execute_result",
          "data": {
            "text/plain": [
              "<matplotlib.collections.PathCollection at 0x794dd955d690>"
            ]
          },
          "metadata": {},
          "execution_count": 51
        },
        {
          "output_type": "display_data",
          "data": {
            "text/plain": [
              "<Figure size 640x480 with 1 Axes>"
            ],
            "image/png": "[encoded data removed]"
          },
          "metadata": {}
        }
      ],
      "source": [
        "umFinal = []\n",
        "\n",
        "in1 = open('/content/Lecture 5_Captions_English (United States).txt','r')\n",
        "out = in1.readlines()\n",
        "in1.close()\n",
        "\n",
        "umCount = 0\n",
        "for line in out:\n",
        "  if phrase in line:\n",
        "    umCount += 1\n",
        "print('Normalized sleep: 1.5')\n",
        "print(umCount)\n",
        "umFinal.append(umCount)\n",
        "\n",
        "in1 = open('/content/Lecture_3_recording_Captions_English (United States).txt','r')\n",
        "out = in1.readlines()\n",
        "in1.close()\n",
        "\n",
        "umCount = 0\n",
        "for line in out:\n",
        "  if phrase in line:\n",
        "    umCount += 1\n",
        "print('Normalized sleep: 6')\n",
        "print(umCount)\n",
        "umFinal.append(umCount)\n",
        "\n",
        "in1 = open('/content/Thu Feb 13 2025 11_37_02 AM_Captions_English (United States).txt','r')\n",
        "out = in1.readlines()\n",
        "in1.close()\n",
        "\n",
        "umCount = 0\n",
        "for line in out:\n",
        "  if phrase in line:\n",
        "    umCount += 1\n",
        "print('Normalized sleep: 0')\n",
        "print(umCount)\n",
        "umFinal.append(umCount)\n",
        "\n",
        "\n",
        "\n",
        "\n",
        "from matplotlib import pyplot as plt\n",
        "plt.scatter([1.5,6,0],umFinal)\n"
      ]
    },
    {
      "cell_type": "code",
      "source": [],
      "metadata": {
        "id": "k0r0XjOdkJia"
      },
      "execution_count": null,
      "outputs": []
    }
  ]
}