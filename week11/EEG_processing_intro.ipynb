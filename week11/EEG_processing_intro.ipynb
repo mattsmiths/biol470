{
  "nbformat": 4,
  "nbformat_minor": 0,
  "metadata": {
    "colab": {
      "provenance": [],
      "authorship_tag": "ABX9TyOksi7gNUuqtNIB//CM3k6S",
      "include_colab_link": true
    },
    "kernelspec": {
      "name": "python3",
      "display_name": "Python 3"
    },
    "language_info": {
      "name": "python"
    }
  },
  "cells": [
    {
      "cell_type": "markdown",
      "metadata": {
        "id": "view-in-github",
        "colab_type": "text"
      },
      "source": [
        "<a href=\"https://colab.research.google.com/github/mattsmiths/biol470/blob/main/week11/EEG_processing_intro.ipynb\" target=\"_parent\"><img src=\"https://colab.research.google.com/assets/colab-badge.svg\" alt=\"Open In Colab\"/></a>"
      ]
    },
    {
      "cell_type": "code",
      "execution_count": 1,
      "metadata": {
        "id": "ZHKFZVdzA30w"
      },
      "outputs": [],
      "source": [
        "import matplotlib.pyplot as plt\n",
        "import librosa\n",
        "import librosa.display\n",
        "import numpy as np\n",
        "import os"
      ]
    },
    {
      "cell_type": "code",
      "source": [
        "#@title Click to copy the class code repository\n",
        "!git clone https://github.com/mattsmiths/biol470.git"
      ],
      "metadata": {
        "colab": {
          "base_uri": "https://localhost:8080/"
        },
        "id": "hcE9C-CiA-Ld",
        "outputId": "69a5bbba-99e4-496a-aade-bf41ce09bef5"
      },
      "execution_count": 2,
      "outputs": [
        {
          "output_type": "stream",
          "name": "stdout",
          "text": [
            "Cloning into 'biol470'...\n",
            "remote: Enumerating objects: 312, done.\u001b[K\n",
            "remote: Counting objects: 100% (74/74), done.\u001b[K\n",
            "remote: Compressing objects: 100% (57/57), done.\u001b[K\n",
            "remote: Total 312 (delta 33), reused 40 (delta 17), pack-reused 238 (from 2)\u001b[K\n",
            "Receiving objects: 100% (312/312), 121.75 MiB | 21.27 MiB/s, done.\n",
            "Resolving deltas: 100% (72/72), done.\n",
            "Updating files: 100% (151/151), done.\n"
          ]
        }
      ]
    },
    {
      "cell_type": "code",
      "source": [
        "import glob\n",
        "getFiles = glob.glob('/content/biol470/week11/data/*/*.wav')\n",
        "for ele in getFiles:\n",
        "  print(ele)"
      ],
      "metadata": {
        "colab": {
          "base_uri": "https://localhost:8080/"
        },
        "id": "vUW6Z6EmChmO",
        "outputId": "97586e44-b666-4e06-ea2f-910f81a570c3"
      },
      "execution_count": 3,
      "outputs": [
        {
          "output_type": "stream",
          "name": "stdout",
          "text": [
            "/content/biol470/week11/data/group_1/BYB_Recording_2025-03-27_12.35.39.wav\n",
            "/content/biol470/week11/data/group_1/Yellow (POP) BYB_Recording_2025-03-27_12.22.09.wav\n",
            "/content/biol470/week11/data/group_1/Novelty BYB_Recording_2025-03-27_12.24.18.wav\n",
            "/content/biol470/week11/data/group_1/Test BYB_Recording_2025-03-27_12.20.34.wav\n",
            "/content/biol470/week11/data/group_1/Surprise (Unheard) BYB_Recording_2025-03-27_12.21.10.wav\n",
            "/content/biol470/week11/data/group_2/TRIAL.wav\n",
            "/content/biol470/week11/data/group_2/JJC.wav\n",
            "/content/biol470/week11/data/group_2/WO.wav\n"
          ]
        }
      ]
    },
    {
      "cell_type": "code",
      "source": [
        "audioPath1 = '/content/biol470/week11/data/group_1/Yellow (POP) BYB_Recording_2025-03-27_12.22.09.wav'"
      ],
      "metadata": {
        "id": "eb_YIrqfCXkX"
      },
      "execution_count": 37,
      "outputs": []
    },
    {
      "cell_type": "code",
      "source": [
        "audioPath2 = '/content/biol470/week11/data/group_1/Yellow (POP) BYB_Recording_2025-03-27_12.22.09.wav'"
      ],
      "metadata": {
        "id": "m29bD8krI3_m"
      },
      "execution_count": 38,
      "outputs": []
    },
    {
      "cell_type": "code",
      "source": [
        "# Reading in the file\n",
        "audio, sr = librosa.load(audioPath1,mono=False)  # Load audio file\n",
        "print(len(audio)/sr)\n"
      ],
      "metadata": {
        "colab": {
          "base_uri": "https://localhost:8080/"
        },
        "id": "m8jAcn3vC-hm",
        "outputId": "05ec53ed-4761-451a-f5a5-2800274f461a"
      },
      "execution_count": 39,
      "outputs": [
        {
          "output_type": "stream",
          "name": "stdout",
          "text": [
            "39.999319727891155\n"
          ]
        }
      ]
    },
    {
      "cell_type": "code",
      "source": [
        "plt.figure()\n",
        "plt.plot(audio,color=(0.3,0.3,0.3,0.5))\n",
        "plt.title('Audio Signal')\n",
        "plt.xlabel('Time')\n",
        "plt.ylabel('Amplitude')\n",
        "plt.show()"
      ],
      "metadata": {
        "id": "9UiUaP3EC0dg"
      },
      "execution_count": null,
      "outputs": []
    },
    {
      "cell_type": "code",
      "source": [
        "xsecs = np.arange(0,len(audio),sr)\n",
        "print('The duration of the recording is: %s seconds'%len(xsecs))"
      ],
      "metadata": {
        "colab": {
          "base_uri": "https://localhost:8080/"
        },
        "id": "mrEFn_-BH7WF",
        "outputId": "b7500b9f-2548-401c-b4d3-d4685ba8aecc"
      },
      "execution_count": 51,
      "outputs": [
        {
          "output_type": "stream",
          "name": "stdout",
          "text": [
            "The duration of the recording is: 40 seconds\n"
          ]
        }
      ]
    },
    {
      "cell_type": "code",
      "source": [
        "xsecs = np.arange(0,len(audio),(sr*5))\n",
        "\n",
        "plt.figure()\n",
        "plt.plot(audio,color=(0.3,0.3,0.3,0.5))\n",
        "plt.title('Audio Signal')\n",
        "plt.xlabel('Time (secs)')\n",
        "plt.ylabel('Amplitude')\n",
        "\n",
        "temp = np.arange(0,len(xsecs))*5\n",
        "\n",
        "ll = plt.xticks(xsecs,temp)\n",
        "\n",
        "\n"
      ],
      "metadata": {
        "id": "nSK8mqUUHZYi"
      },
      "execution_count": null,
      "outputs": []
    },
    {
      "cell_type": "code",
      "source": [
        "# Reading in the file 1\n",
        "audio1, sr1 = librosa.load(audioPath1,mono=False)  # Load audio file\n",
        "print(len(audio1)/sr1)\n",
        "\n",
        "# Reading in the file 2\n",
        "audio2, sr2 = librosa.load(audioPath2,mono=False)  # Load audio file\n",
        "print(len(audio2)/sr2)\n",
        "\n",
        "\n",
        "plt.figure(figsize=(10,5))\n",
        "\n",
        "# for the first plot\n",
        "plt.subplot(1,2,1)\n",
        "xsecs1 = np.arange(0,len(audio1),(sr1*5))\n",
        "plt.plot(audio1,color=(0.3,0.3,0.3,0.5))\n",
        "plt.title('Audio Signal 1')\n",
        "plt.xlabel('Time (secs)')\n",
        "plt.ylabel('Amplitude')\n",
        "temp = np.arange(0,len(xsecs))*5\n",
        "ll = plt.xticks(xsecs,temp)\n",
        "\n",
        "# for the second plot\n",
        "plt.subplot(1,2,2)\n",
        "xsecs2 = np.arange(0,len(audio2),(sr2*5))\n",
        "plt.plot(audio2,color=(0.5,0.3,0.3,0.5))\n",
        "plt.title('Audio Signal 2')\n",
        "plt.xlabel('Time (secs)')\n",
        "plt.ylabel('Amplitude')\n",
        "temp = np.arange(0,len(xsecs2))*5\n",
        "ll = plt.xticks(xsecs2,temp)"
      ],
      "metadata": {
        "id": "uhEZiC-ZJvXB"
      },
      "execution_count": null,
      "outputs": []
    },
    {
      "cell_type": "code",
      "source": [
        "# Reading in the file 1\n",
        "audio1, sr1 = librosa.load(audioPath1,mono=False)  # Load audio file\n",
        "print(len(audio1)/sr1)\n",
        "\n",
        "# Reading in the file 2\n",
        "audio2, sr2 = librosa.load(audioPath2,mono=False)  # Load audio file\n",
        "print(len(audio2)/sr2)\n",
        "\n",
        "\n",
        "plt.figure(figsize=(10,5))\n",
        "\n",
        "# for the first plot\n",
        "plt.subplot(1,2,1)\n",
        "\n",
        "# amplitude mean of audio 1\n",
        "mean1 = np.mean(abs(audio1))\n",
        "sem1 = np.std(abs(audio1))/np.sqrt(len(audio1))\n",
        "plt.bar('Audio 1',mean1,color=(0.3,0.3,0.3,0.5))\n",
        "plt.plot([0,0],[mean1-sem1,mean1+sem1],color=(0.2,0.2,0.2),linewidth=2)\n",
        "\n",
        "\n",
        "# amplitude mean of audio 2\n",
        "mean2 = np.mean(abs(audio2))\n",
        "sem2 = np.std(abs(audio2))/np.sqrt(len(audio2))\n",
        "plt.bar('Audio 2',mean2,color=(0.5,0.3,0.3,0.5))\n",
        "plt.plot([1,1],[mean2-sem2,mean2+sem2],color=(0.2,0.2,0.2),linewidth=2)\n",
        "\n",
        "plt.title('Comparing Amplitudes')\n",
        "\n"
      ],
      "metadata": {
        "id": "ULYuq4kJKJT9"
      },
      "execution_count": null,
      "outputs": []
    },
    {
      "cell_type": "code",
      "source": [
        "# Perform Fourier Transform to extract frequencies\n",
        "# Apply Fast Fourier Transform (FFT) to the audio signal\n",
        "fft_result = np.fft.fft(audio1)\n",
        "fft_result = np.fft.fft(audio1)\n",
        "fft_freq = np.fft.fftfreq(len(fft_result), 1/sr1)\n",
        "\n",
        "# Only keep the positive frequencies\n",
        "# your x label (what frequency)\n",
        "positive_frequencies = fft_freq[:len(fft_freq)//2]\n",
        "\n",
        "# the count of that frequency\n",
        "positive_fft_result = np.abs(fft_result[:len(fft_result)//2])"
      ],
      "metadata": {
        "id": "3fExfBGvN6s9"
      },
      "execution_count": 72,
      "outputs": []
    },
    {
      "cell_type": "code",
      "source": [
        "xx = []\n",
        "yy = []\n",
        "for ee in range(0,51):\n",
        "  temp = 0\n",
        "  for ind,ele in enumerate(positive_frequencies[:2000]):\n",
        "    if ele > ee and ele <= ee+1:\n",
        "      temp+=positive_fft_result[ind]\n",
        "  xx.append(ee)\n",
        "  yy.append(int(temp))\n",
        "\n",
        "plt.figure(figsize=(10,5))\n",
        "plt.bar(xx,yy,color=(0.65,0.65,0.65,0.8))\n",
        "plt.plot(xx,yy,color=(0,0,0),linewidth=0.5)\n",
        "plt.scatter(xx,yy,color=(0,0,0),s=10)\n",
        "ii = plt.xticks(np.arange(0,51,2))\n",
        "plt.title('Audio1: Frequency vs Count')\n",
        "plt.ylabel('Count')\n",
        "plt.xlabel('Frequency (Hz)')"
      ],
      "metadata": {
        "id": "mhOHLNSOOk82"
      },
      "execution_count": null,
      "outputs": []
    },
    {
      "cell_type": "code",
      "source": [
        "xx = []\n",
        "yy = []\n",
        "\n",
        "# alpha waves range\n",
        "fMin = 8\n",
        "fMax = 13\n",
        "\n",
        "\n",
        "\n",
        "for secs in np.arange(0,len(audio1),sr):\n",
        "\n",
        "  audioClip = audio1[secs:secs+sr]\n",
        "  # Perform Fourier Transform to extract frequencies\n",
        "  # Apply Fast Fourier Transform (FFT) to the audio signal\n",
        "  fft_result = np.fft.fft(audioClip)\n",
        "  fft_result = np.fft.fft(audioClip)\n",
        "  fft_freq = np.fft.fftfreq(len(fft_result), 1/sr1)\n",
        "\n",
        "  # Only keep the positive frequencies\n",
        "  # your x label (what frequency)\n",
        "  positive_frequencies = fft_freq[:len(fft_freq)//2]\n",
        "\n",
        "  # the count of that frequency\n",
        "  positive_fft_result = np.abs(fft_result[:len(fft_result)//2])\n",
        "\n",
        "  temp = 0\n",
        "  for ind,ele in enumerate(positive_frequencies[:2000]):\n",
        "    if ele > fMin and ele <= fMax+1:\n",
        "      temp+=positive_fft_result[ind]\n",
        "\n",
        "  xx.append(secs+1)\n",
        "  yy.append(int(temp))\n",
        "\n",
        "\n",
        "\n",
        "plt.figure(figsize=(10,5))\n",
        "plt.bar(xx,yy,color=(0.65,0.65,0.65,0.8))\n",
        "plt.plot(xx,yy,color=(0,0,0),linewidth=0.5)\n",
        "plt.scatter(xx,yy,color=(0,0,0),s=10)\n",
        "#ii = plt.xticks(np.arange(0,51,2))\n",
        "plt.title('Audio1: alpha waves over time')\n",
        "plt.ylabel('Count')\n",
        "plt.xlabel('Time (seconds)')\n",
        "\n",
        "xsecs2 = np.arange(0,len(audio2),(sr2*5))\n",
        "temp = np.arange(0,len(xsecs2))*5\n",
        "ll = plt.xticks(xsecs2,temp)"
      ],
      "metadata": {
        "id": "MoxaydGeP8gm"
      },
      "execution_count": null,
      "outputs": []
    },
    {
      "cell_type": "code",
      "source": [],
      "metadata": {
        "id": "HLv7qvV3VPt0"
      },
      "execution_count": 85,
      "outputs": []
    }
  ]
}