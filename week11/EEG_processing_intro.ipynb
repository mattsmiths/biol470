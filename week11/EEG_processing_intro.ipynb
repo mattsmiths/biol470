{
  "nbformat": 4,
  "nbformat_minor": 0,
  "metadata": {
    "colab": {
      "provenance": [],
      "authorship_tag": "ABX9TyOV9OVtmESAfBkC2/35duHz",
      "include_colab_link": true
    },
    "kernelspec": {
      "name": "python3",
      "display_name": "Python 3"
    },
    "language_info": {
      "name": "python"
    }
  },
  "cells": [
    {
      "cell_type": "markdown",
      "metadata": {
        "id": "view-in-github",
        "colab_type": "text"
      },
      "source": [
        "<a href=\"https://colab.research.google.com/github/mattsmiths/biol470/blob/main/week11/EEG_processing_intro.ipynb\" target=\"_parent\"><img src=\"https://colab.research.google.com/assets/colab-badge.svg\" alt=\"Open In Colab\"/></a>"
      ]
    },
    {
      "cell_type": "code",
      "execution_count": null,
      "metadata": {
        "id": "5jXLkwlGXC2V"
      },
      "outputs": [],
      "source": [
        "import matplotlib.pyplot as plt\n",
        "import librosa\n",
        "import librosa.display\n",
        "import numpy as np\n",
        "import os"
      ]
    },
    {
      "cell_type": "code",
      "source": [
        "#@title Click to copy the class code repository\n",
        "!git clone https://github.com/mattsmiths/biol470.git"
      ],
      "metadata": {
        "id": "zbXY8bAmXFI6"
      },
      "execution_count": null,
      "outputs": []
    },
    {
      "cell_type": "code",
      "source": [
        "import glob\n",
        "getFiles = glob.glob('/content/biol470/week11/data/*/*.wav')\n",
        "for ele in getFiles:\n",
        "  print(ele)"
      ],
      "metadata": {
        "id": "MCprlx8aXG1F"
      },
      "execution_count": null,
      "outputs": []
    },
    {
      "cell_type": "code",
      "source": [
        "#audioPath1 = '/content/biol470/week11/data/group_1/Yellow (POP) BYB_Recording_2025-03-27_12.22.09.wav'"
      ],
      "metadata": {
        "id": "Q6AHTiBgXI8I"
      },
      "execution_count": null,
      "outputs": []
    }
  ]
}