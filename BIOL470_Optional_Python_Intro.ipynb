{
  "nbformat": 4,
  "nbformat_minor": 0,
  "metadata": {
    "colab": {
      "provenance": [],
      "toc_visible": true,
      "include_colab_link": true
    },
    "kernelspec": {
      "name": "python3",
      "display_name": "Python 3"
    },
    "language_info": {
      "name": "python"
    }
  },
  "cells": [
    {
      "cell_type": "markdown",
      "metadata": {
        "id": "view-in-github",
        "colab_type": "text"
      },
      "source": [
        "<a href=\"https://colab.research.google.com/github/mattsmiths/biol470/blob/main/BIOL470_Optional_Python_Intro.ipynb\" target=\"_parent\"><img src=\"https://colab.research.google.com/assets/colab-badge.svg\" alt=\"Open In Colab\"/></a>"
      ]
    },
    {
      "metadata": {
        "_uuid": "625c587f57522c988f35e92b515b8d8ef1f323d6",
        "id": "2TnR3gZjgGho"
      },
      "cell_type": "markdown",
      "source": [
        "# BIOL-470: Systems and Behavioral Neuroscience\n",
        "\n",
        "## Welcome to Python and Google Colab!"
      ]
    },
    {
      "cell_type": "markdown",
      "source": [
        "Hi! And welcome to a optional workbook to get you oriented with:\n",
        "\n",
        "\n",
        "1.   [Google Colab](https://colab.research.google.com/notebooks/welcome.ipynb)\n",
        "2.   [Python](https://docs.python.org/3/tutorial/index.html)\n",
        "\n"
      ],
      "metadata": {
        "id": "7vPcoed-UN6N"
      }
    },
    {
      "metadata": {
        "id": "bd8EKeYWgGhs"
      },
      "cell_type": "markdown",
      "source": [
        "## Getting Started\n",
        "\n",
        "\n",
        "### The basics of coding and programming\n",
        "- You can make a new blank cell for Python code at any time in this document.\n",
        "- Hover your mouse directly below this box and look for the \"text\" and \"code\" tabs.\n",
        "- Click \"text\" to make a new cell that you can type into!\n"
      ]
    },
    {
      "metadata": {
        "id": "s7SSLt30gGhs"
      },
      "cell_type": "markdown",
      "source": [
        "### 0. Orientation\n",
        "- Notebooks (Google Colabs) are made of cells\n",
        "- Each cell contains either code or text.\n",
        "- Code cells run the code, text cells render the text\n",
        "- To run a cell, click on the cell and click the Play button or do \"shift + Enter\" on your keyboard."
      ]
    },
    {
      "cell_type": "code",
      "source": [
        "# This is an example of writing text!\n",
        "# Because of the hashtag in front of the text this is non-executable code\n",
        "# Also referred to as comments :)\n",
        "# Very important when describing your code to share with others or to remember what you were doing days later :|"
      ],
      "metadata": {
        "id": "Izb4d4I4XpG6"
      },
      "execution_count": null,
      "outputs": []
    },
    {
      "metadata": {
        "id": "WoowbtT6gGhs"
      },
      "cell_type": "markdown",
      "source": [
        "# Part I - Basic Buiding Blocks\n",
        "0. Orientation - How to run code in this notebook\n",
        "1. Printing values\n",
        "2. Using comments\n",
        "3. Variables, assignment, and re-assignment\n",
        "4. Data Types\n",
        "5. Mathematical operations in Python\n",
        "6. Comparison operators\n",
        "7. Logical operations in Python\n",
        "8. Conditionals"
      ]
    },
    {
      "metadata": {
        "id": "TqOJRRx-gGht"
      },
      "cell_type": "markdown",
      "source": [
        "### 1. Printing with the `print()` function"
      ]
    },
    {
      "metadata": {
        "trusted": true,
        "id": "B5SnrzSngGhu"
      },
      "cell_type": "code",
      "source": [
        "print(\"Good afternoon, y'all!\")"
      ],
      "execution_count": null,
      "outputs": []
    },
    {
      "metadata": {
        "trusted": true,
        "id": "Nk8MtEafgGhw"
      },
      "cell_type": "code",
      "source": [
        "2 + 2"
      ],
      "execution_count": null,
      "outputs": []
    },
    {
      "metadata": {
        "trusted": true,
        "id": "2lpB22C3gGhx"
      },
      "cell_type": "code",
      "source": [
        "# assigning a value to a variable\n",
        "today = \"Today is a great day to learn\"\n",
        "print(today)"
      ],
      "execution_count": null,
      "outputs": []
    },
    {
      "metadata": {
        "trusted": true,
        "id": "xCtXOvkygGhx"
      },
      "cell_type": "code",
      "source": [
        "print(\"Use the print command\")\n",
        "print(\"To print\")\n",
        "print(\"Prints each and every line\")"
      ],
      "execution_count": null,
      "outputs": []
    },
    {
      "metadata": {
        "trusted": true,
        "id": "52xKoHsRgGhy"
      },
      "cell_type": "code",
      "source": [
        "\"Notebook cells automatically print the last line of code\""
      ],
      "execution_count": null,
      "outputs": []
    },
    {
      "metadata": {
        "trusted": true,
        "id": "9HnwX6zRgGhy"
      },
      "cell_type": "code",
      "source": [
        "# run this cell and the number 5 will be printed\n",
        "5"
      ],
      "execution_count": null,
      "outputs": []
    },
    {
      "metadata": {
        "trusted": true,
        "id": "0mC8K4NagGhy"
      },
      "cell_type": "code",
      "source": [
        "5 * 2"
      ],
      "execution_count": null,
      "outputs": []
    },
    {
      "metadata": {
        "trusted": true,
        "id": "niAX0ModgGhy"
      },
      "cell_type": "code",
      "source": [
        "\"Multiple lines\"\n",
        "\"do not print automatically\"\n",
        "\"only the last line\""
      ],
      "execution_count": null,
      "outputs": []
    },
    {
      "metadata": {
        "trusted": true,
        "id": "B9bMPncsgGhz"
      },
      "cell_type": "code",
      "source": [
        "\"I'm writing Python with y'all right now\""
      ],
      "execution_count": null,
      "outputs": []
    },
    {
      "metadata": {
        "trusted": true,
        "id": "34lgGxaTgGhz"
      },
      "cell_type": "code",
      "source": [
        "print(\"That means\")\n",
        "print(\"The print command is important.\")\n",
        "print(\"When we want to print each line\")"
      ],
      "execution_count": null,
      "outputs": []
    },
    {
      "metadata": {
        "trusted": true,
        "id": "chS6FpDpgGhz"
      },
      "cell_type": "code",
      "source": [
        "# Exercise: Print your name in this cell. Be sure to use quotation marks around the letters.\n"
      ],
      "execution_count": null,
      "outputs": []
    },
    {
      "metadata": {
        "trusted": true,
        "id": "FODWsK6kgGhz"
      },
      "cell_type": "code",
      "source": [
        "# Exercise: Print your favorite number in this cell\n"
      ],
      "execution_count": null,
      "outputs": []
    },
    {
      "metadata": {
        "trusted": true,
        "id": "v2Omd9FcgGh0"
      },
      "cell_type": "code",
      "source": [
        "# Exercise: Print the number 7 in this cell\n"
      ],
      "execution_count": null,
      "outputs": []
    },
    {
      "metadata": {
        "trusted": true,
        "id": "925HMw3qgGh0"
      },
      "cell_type": "code",
      "source": [
        "# Exercise: Print out 3 + 4 in this cell\n",
        "# Make Python do the math rather than adding 3 + 4 in your head\n"
      ],
      "execution_count": null,
      "outputs": []
    },
    {
      "metadata": {
        "trusted": true,
        "id": "oWPB5p3pgGh0"
      },
      "cell_type": "code",
      "source": [
        "# Exercise: Print out 3 * 5 in this cell, * means multiply\n"
      ],
      "execution_count": null,
      "outputs": []
    },
    {
      "metadata": {
        "id": "nAu87kpGgGh0"
      },
      "cell_type": "markdown",
      "source": [
        "### 2. Comments are how we notate our code with descriptive text\n",
        "- Python comments are created by the hashtag symbol.\n",
        "- The hashtag \"comments out\" everything to the right of the hashtag.\n",
        "- Comments exist in the code but do not execute\n",
        "- Commenting your code is an industry best practice\n",
        "- A hashtag at the beginning of a line \"comments out"
      ]
    },
    {
      "metadata": {
        "trusted": true,
        "id": "F2uL7KQagGh1"
      },
      "cell_type": "code",
      "source": [
        "# This is a comment. Run this cell. Do you see anything? Why or why not?"
      ],
      "execution_count": null,
      "outputs": []
    },
    {
      "metadata": {
        "trusted": true,
        "id": "bJ8jA4sxgGh1"
      },
      "cell_type": "code",
      "source": [
        "# First, run this cell.\n",
        "# Then delete the hashtag at the beginning of the last line.\n",
        "# Last, run the cell again.\n",
        "print(\"This is a 'commented out' print command\")"
      ],
      "execution_count": null,
      "outputs": []
    },
    {
      "metadata": {
        "trusted": true,
        "id": "jGicm6WxgGh1"
      },
      "cell_type": "code",
      "source": [
        "# In Python\n",
        "# Comments are a best-practice when it comes to communicating to your future self and to fellow developers\n",
        "print(\"Once the # at the beginning of this line is removed, this string will print.\") # additional hashtags make additional comments"
      ],
      "execution_count": null,
      "outputs": []
    },
    {
      "metadata": {
        "id": "TZ51jPNzgGh1"
      },
      "cell_type": "markdown",
      "source": [
        "### 3. Variables point to values and give them a name\n",
        "- \"Assigning a variable\" means to bind value to a variable\n",
        "- Variables allow us to name values\n",
        "- Variables hold onto values for later.\n",
        "- Variables hold their assigned value(s) until\n",
        "- Applications use the same variable to hold different values for different users"
      ]
    },
    {
      "metadata": {
        "trusted": true,
        "id": "QlmAuPYjgGh1"
      },
      "cell_type": "code",
      "source": [
        "# Variables hold values that we use later in the program by name.\n",
        "# \"Assigning a variable\"\n",
        "# Single = sign is called the assignment operator\n",
        "message = \"Hello, Everybody!\"\n",
        "print(message)"
      ],
      "execution_count": null,
      "outputs": []
    },
    {
      "metadata": {
        "trusted": true,
        "id": "0s4xtXumgGh1"
      },
      "cell_type": "code",
      "source": [
        "favorite_quote = \"If you can't solve a problem, then there is an easier problem you can solve:  find it.\"\n",
        "print(favorite_quote)"
      ],
      "execution_count": null,
      "outputs": []
    },
    {
      "metadata": {
        "trusted": true,
        "id": "YsDls4npgGh2"
      },
      "cell_type": "code",
      "source": [
        "# Variables are assigned to point to values.\n",
        "favorite_food = \"lasagna\"\n",
        "print(\"My favorite food is\", favorite_food)"
      ],
      "execution_count": null,
      "outputs": []
    },
    {
      "metadata": {
        "trusted": true,
        "id": "0bg3cY9JgGh2"
      },
      "cell_type": "code",
      "source": [
        "# Variables can also be re-assigned to point to different values.\n",
        "favorite_food = \"pizza\"\n",
        "print(\"I changed my mind. My favorite food is actually\", favorite_food)"
      ],
      "execution_count": null,
      "outputs": []
    },
    {
      "metadata": {
        "trusted": true,
        "id": "M-4KqEzPgGh2"
      },
      "cell_type": "code",
      "source": [
        "# Exercise: Reassign the favorite_food variable to hold your own favorite food, then print the variable.\n"
      ],
      "execution_count": null,
      "outputs": []
    },
    {
      "metadata": {
        "trusted": true,
        "id": "Iui_wVuqgGh2"
      },
      "cell_type": "code",
      "source": [
        "# Exercise: Create and assign the variable favorite_number to hold your own favorite number.\n"
      ],
      "execution_count": null,
      "outputs": []
    },
    {
      "metadata": {
        "trusted": true,
        "id": "JV4t4F2DgGh4"
      },
      "cell_type": "code",
      "source": [
        "# Exercise: Reassign the favorite_food variable to hold the number 7.\n",
        "# What happens and why? Does this match your expectations?\n"
      ],
      "execution_count": null,
      "outputs": []
    },
    {
      "metadata": {
        "id": "-chH-cuQgGh5"
      },
      "cell_type": "markdown",
      "source": [
        "### 4. Data Types\n",
        "\n",
        "Each piece of data has two fundamental characteristics:\n",
        "- The value of the data itself.\n",
        "- Every value has a data type which explains what kind of data the value is.\n",
        "- For example, the integer 2 has the value of 2 and the data type is integer.\n",
        "- The first data-types to learn:\n",
        "    - None\n",
        "    - Boolean\n",
        "    - Integer\n",
        "    - Float\n",
        "    - String\n",
        "    - List\n",
        "    - Function\n",
        "    - Dictionary"
      ]
    },
    {
      "metadata": {
        "trusted": true,
        "id": "g-CmMRSCgGh7"
      },
      "cell_type": "code",
      "source": [
        "# The \"None\" data type represents the absence of a value. This is called \"null\" in some other programming languages\n",
        "type(None)"
      ],
      "execution_count": null,
      "outputs": []
    },
    {
      "metadata": {
        "trusted": true,
        "id": "IiWs6zRwgGh8"
      },
      "cell_type": "code",
      "source": [
        "type(True)"
      ],
      "execution_count": null,
      "outputs": []
    },
    {
      "metadata": {
        "trusted": true,
        "id": "XE4n20pegGh9"
      },
      "cell_type": "code",
      "source": [
        "type(False)"
      ],
      "execution_count": null,
      "outputs": []
    },
    {
      "metadata": {
        "trusted": true,
        "id": "U0UzvO51gGh9"
      },
      "cell_type": "code",
      "source": [
        "# Numbers without a decimal are integers. Integers can be negative or positive.\n",
        "type(-99)"
      ],
      "execution_count": null,
      "outputs": []
    },
    {
      "metadata": {
        "trusted": true,
        "id": "dcW6A69GgGh9"
      },
      "cell_type": "code",
      "source": [
        "type(2.3)"
      ],
      "execution_count": null,
      "outputs": []
    },
    {
      "metadata": {
        "trusted": true,
        "id": "uNPJiQLogGh-"
      },
      "cell_type": "code",
      "source": [
        ".5 * .5"
      ],
      "execution_count": null,
      "outputs": []
    },
    {
      "metadata": {
        "trusted": true,
        "id": "SW9EkO9DgGh-"
      },
      "cell_type": "code",
      "source": [
        "type(\"Howdy!\")"
      ],
      "execution_count": null,
      "outputs": []
    },
    {
      "metadata": {
        "trusted": true,
        "id": "Yh3hI_oWgGiA"
      },
      "cell_type": "code",
      "source": [
        "# True and False are the only two Boolean values.\n",
        "True\n",
        "False\n",
        "\n",
        "print(True)\n",
        "print(False)"
      ],
      "execution_count": null,
      "outputs": []
    },
    {
      "metadata": {
        "id": "v10kmdyAgGiC"
      },
      "cell_type": "markdown",
      "source": [
        "### 5. Mathematical Operations in Python\n",
        "- Computers are not intelligent. They do 2nd grade math as fast as possible.\n",
        "- Programming languages need to have the ability to perform mathematical operations.\n",
        "- Mathematical operators in Python evaluate and provide\n",
        "- Order of operations in Python follows PEMDAS:\n",
        "    - Parentheses\n",
        "    - Exponents\n",
        "    - Multiplication\n",
        "    - Division\n",
        "    - Addition\n",
        "    - Subtraction"
      ]
    },
    {
      "metadata": {
        "id": "Uv5bCclcgGiC"
      },
      "cell_type": "markdown",
      "source": [
        "###  Operators operate on values and produce values\n",
        "#### Let's look at some math operators in Python\n",
        "- `+` adds two numbers together\n",
        "- `-` subtracts the second number from the first\n",
        "- `*` multiplies both numbers and returns the product\n",
        "- `/` divides the first number by the second\n",
        "- `%` provides the remainder of dividing the first number by the second.  (called the modulo operator)\n",
        "- `**` is the exponentiation operator. 2 raised to the 3rd power is `2**3`"
      ]
    },
    {
      "metadata": {
        "trusted": true,
        "id": "STJe6bc_gGiC"
      },
      "cell_type": "code",
      "source": [
        "# Exercise: Add 1 plus 2 plus 3 plus 4 plus 5 plus 6 plus 7 plus 8 plus 9 plus 10\n"
      ],
      "execution_count": null,
      "outputs": []
    },
    {
      "metadata": {
        "trusted": true,
        "id": "2IFoD5qigGiD"
      },
      "cell_type": "code",
      "source": [
        "# Exercise: Subtract 23 from 55\n"
      ],
      "execution_count": null,
      "outputs": []
    },
    {
      "metadata": {
        "trusted": true,
        "id": "0Hy7jTx4gGiD"
      },
      "cell_type": "code",
      "source": [
        "# Exercise: Multiply 2.3 by 4.4. What's the data-type that this returns?\n"
      ],
      "execution_count": null,
      "outputs": []
    },
    {
      "metadata": {
        "trusted": true,
        "id": "iCHgDk-KgGiD"
      },
      "cell_type": "code",
      "source": [
        "# Exercise: Multiply 3 by 5.\n"
      ],
      "execution_count": null,
      "outputs": []
    },
    {
      "metadata": {
        "trusted": true,
        "id": "EKOlMsAagGiD"
      },
      "cell_type": "code",
      "source": [
        "# Exercise: Print out the data-type of the result of multiplying 11 * 7\n"
      ],
      "execution_count": null,
      "outputs": []
    },
    {
      "metadata": {
        "trusted": true,
        "id": "DdvT1X-TgGiD"
      },
      "cell_type": "code",
      "source": [
        "# Exercise: Divide 1 by 2. What happens? What data type is returned?\n"
      ],
      "execution_count": null,
      "outputs": []
    },
    {
      "metadata": {
        "trusted": true,
        "id": "nIi0xU7egGiD"
      },
      "cell_type": "code",
      "source": [
        "# Exercise: Divide 5 by 0. What happens? Why do you think that is?\n"
      ],
      "execution_count": null,
      "outputs": []
    },
    {
      "metadata": {
        "trusted": true,
        "id": "UNhLRtFhgGiD"
      },
      "cell_type": "code",
      "source": [
        "# Exercise: Use the modulo operator to obtain the remainder of dividing 5 by 2\n",
        "5 % 2"
      ],
      "execution_count": null,
      "outputs": []
    },
    {
      "metadata": {
        "trusted": true,
        "id": "rk2FAjG2gGiE"
      },
      "cell_type": "code",
      "source": [
        "# Exercise: Use the modulo operator to obtain the remainder of dividing 8 by 2\n"
      ],
      "execution_count": null,
      "outputs": []
    },
    {
      "metadata": {
        "trusted": true,
        "id": "YKIp8BT_gGiE"
      },
      "cell_type": "code",
      "source": [
        "# Exercise: Use the modulo operator to obtain the remainder of dividing 7 by 2\n"
      ],
      "execution_count": null,
      "outputs": []
    },
    {
      "metadata": {
        "trusted": true,
        "id": "0FG1gCAlgGiE"
      },
      "cell_type": "code",
      "source": [
        "# Exercise: Use the exponent operator to raise 2 to the 3rd power\n"
      ],
      "execution_count": null,
      "outputs": []
    },
    {
      "metadata": {
        "trusted": true,
        "id": "Z7Pq801AgGiE"
      },
      "cell_type": "code",
      "source": [
        "# Exercise: Use the exponent operator to raise 10 to the 10th power\n"
      ],
      "execution_count": null,
      "outputs": []
    },
    {
      "metadata": {
        "trusted": true,
        "id": "nPer6b9fgGiE"
      },
      "cell_type": "code",
      "source": [
        "# Exercise: Use the exponent operator to raise 100 to the 100th power\n"
      ],
      "execution_count": null,
      "outputs": []
    },
    {
      "metadata": {
        "trusted": true,
        "id": "aJARUriwgGiE"
      },
      "cell_type": "code",
      "source": [
        "# Exercise: Use the exponent operator to raise 2 to the negative 1st power\n"
      ],
      "execution_count": null,
      "outputs": []
    },
    {
      "metadata": {
        "trusted": true,
        "id": "PQbU6maXgGiE"
      },
      "cell_type": "code",
      "source": [
        "# Exercise: Use the exponent operator to raise 123 to the 0th power\n"
      ],
      "execution_count": null,
      "outputs": []
    },
    {
      "metadata": {
        "trusted": true,
        "id": "N0CxJyFogGiE"
      },
      "cell_type": "code",
      "source": [
        "# Exercise: Use what you have learned to determine the average of the following variables\n"
      ],
      "execution_count": null,
      "outputs": []
    },
    {
      "metadata": {
        "id": "9cfkyDJ1gGiF"
      },
      "cell_type": "markdown",
      "source": [
        "## 6. Comparison Operators\n",
        "\n",
        "### Python Comparison Operators compare two values and return a True or False\n",
        "- `==` compares two values to see if they are the same value.\n",
        "- `!=` asks if the values on each side of the operator are **not** the same.]\n",
        "- `<` and `<=` are less than and less than or equal to\n",
        "- `>` and `>=` are greater than and greater than or equal to, respectively.\n",
        "\n",
        "### Let's look at some concrete examples of using comparison operators and values that return a True or a False.\n",
        "\n",
        "- `2 < 3` returns `True` because it's a true statement that two is less than three\n",
        "- `2 <= 2` returns `True` because two is less than or equal to two\n",
        "- `2 < 2` returns `False` because two is not less than two\n",
        "- `4 <= 2` returns `False` because four is not less than or equal to two\n",
        "- `10 < 5` returns `False` because 10 is not less than 5\n",
        "- `10 > 5` returns `True` because ten is greater than 5\n",
        "- `2 == 2` returns `True` because the number two is equal to the number two\n",
        "- `2 == 3` returns `False` because two is not three\n",
        "- `3 != 2` returns `True` because three is not equal to two.\n",
        "- `4 in [1, 2, 3, 4]` returns `True` because 4 exists in the list `[1, 2, 3, 4]`\n",
        "- `\"b\" in \"banana\"` returns `True` because the string \"b\" exists inside the string `\"banana\"`\n",
        "\n",
        "If we have `x = 3` followed by `result = x > 0` on the next line, the result variable will hold `True` because 3 is greater than 0.\n",
        "\n",
        "### Comparison Operators ask the following questions\n",
        "- Are these two things equal?\n",
        "- Are these two things not equal?\n",
        "- Is A greather than B?\n",
        "- Is A greater than or equal to B?\n",
        "- Is A less than B?\n",
        "- Is A less than or equal to B?\n",
        "- Does A exist in a list or collection of values named B"
      ]
    },
    {
      "metadata": {
        "trusted": true,
        "id": "N33qXq-YgGiF"
      },
      "cell_type": "code",
      "source": [
        "print(\"5 > 4 is\", 5 > 4)"
      ],
      "execution_count": null,
      "outputs": []
    },
    {
      "metadata": {
        "trusted": true,
        "id": "Q_yc93zJgGiF"
      },
      "cell_type": "code",
      "source": [
        "print(\"1 > 0 is\", 1 > 0)"
      ],
      "execution_count": null,
      "outputs": []
    },
    {
      "metadata": {
        "trusted": true,
        "id": "BwIswbAhgGiF"
      },
      "cell_type": "code",
      "source": [
        "# Comparison operators give us back a True or False\n",
        "\n",
        "print(5 == 5)\n",
        "\n",
        "print(-4 + 4 == 0)"
      ],
      "execution_count": null,
      "outputs": []
    },
    {
      "metadata": {
        "trusted": true,
        "id": "69VvfmN5gGiF"
      },
      "cell_type": "code",
      "source": [
        "# False because they're not the same data type\n",
        "5 == \"5\""
      ],
      "execution_count": null,
      "outputs": []
    },
    {
      "metadata": {
        "trusted": true,
        "id": "xDDqJwc-gGiF"
      },
      "cell_type": "code",
      "source": [
        "print(\"Hello\" == \"Goodbye\")\n",
        "print(\"Hello\" != \"Goodbye\") # != means \"not equal to\"\n",
        "# = assignment# False because they're not the same data type\n",
        "5 == \"5\""
      ],
      "execution_count": null,
      "outputs": []
    },
    {
      "metadata": {
        "trusted": true,
        "id": "uFU6i_PvgGiF"
      },
      "cell_type": "code",
      "source": [
        "# Exercise: assign the variable favorite_number to hold your favorite number"
      ],
      "execution_count": null,
      "outputs": []
    },
    {
      "metadata": {
        "_uuid": "c4830a133cdd79071a8c68ad633ff996b88856ed",
        "trusted": true,
        "id": "WnafT4nigGiF"
      },
      "cell_type": "code",
      "source": [
        "# Exercise: Write the Python code necessary to answer if your favorite number is less than 100"
      ],
      "execution_count": null,
      "outputs": []
    },
    {
      "metadata": {
        "trusted": true,
        "id": "FQT4yUvagGiF"
      },
      "cell_type": "code",
      "source": [
        "# Exercise: Write the code to determine if your favorite number is greater than 0\n"
      ],
      "execution_count": null,
      "outputs": []
    },
    {
      "metadata": {
        "trusted": true,
        "id": "o-6zuUHVgGiG"
      },
      "cell_type": "code",
      "source": [
        "# Exercise: Write the code to determine if your favorite number is five"
      ],
      "execution_count": null,
      "outputs": []
    },
    {
      "metadata": {
        "trusted": true,
        "id": "j24N0kA-gGiG"
      },
      "cell_type": "code",
      "source": [
        "# Exercise: Write the code to determine if your favorite number is greater than or equal to 3"
      ],
      "execution_count": null,
      "outputs": []
    },
    {
      "metadata": {
        "trusted": true,
        "id": "ldRIMiG6gGiG"
      },
      "cell_type": "code",
      "source": [
        "# Exercise: Write the code to determine if your favorite number is greater than or equal to -100\n"
      ],
      "execution_count": null,
      "outputs": []
    },
    {
      "metadata": {
        "trusted": true,
        "id": "CYjtpHddgGiG"
      },
      "cell_type": "code",
      "source": [
        "# Before running this code, consider if this will return True or False, given your favorite_number variable's value\n",
        "\n",
        "\n",
        "favorite_number < 0 and favorite_number > 10"
      ],
      "execution_count": null,
      "outputs": []
    },
    {
      "metadata": {
        "trusted": true,
        "id": "IPAJhesegGiG"
      },
      "cell_type": "code",
      "source": [
        "# Before running this code, consider if this will return True or False, given your favorite_number variable's value\n",
        "\n",
        "favorite_number < 10 or favorite_number > 20"
      ],
      "execution_count": null,
      "outputs": []
    },
    {
      "metadata": {
        "id": "IIceXHobgGiG"
      },
      "cell_type": "markdown",
      "source": [
        "## 7. Logical Operators\n",
        "\n",
        "### Evaluating what's True in Python\n",
        "- Most common logical operations are:\n",
        "    - And\n",
        "    - Or\n",
        "    - Not\n",
        "- For a reminder, see [Conjunction Junction from School House Rock](https://www.youtube.com/watch?v=4AyjKgz9tKg)"
      ]
    },
    {
      "metadata": {
        "_uuid": "c4830a133cdd79071a8c68ad633ff996b88856ed",
        "trusted": true,
        "id": "eIg2Rl1XgGiG"
      },
      "cell_type": "code",
      "source": [
        "not True"
      ],
      "execution_count": null,
      "outputs": []
    },
    {
      "metadata": {
        "_uuid": "c4830a133cdd79071a8c68ad633ff996b88856ed",
        "trusted": true,
        "id": "BXmB8KrfgGiG"
      },
      "cell_type": "code",
      "source": [
        "not False"
      ],
      "execution_count": null,
      "outputs": []
    },
    {
      "metadata": {
        "_uuid": "c4830a133cdd79071a8c68ad633ff996b88856ed",
        "trusted": true,
        "id": "tMDAGrdmgGiG"
      },
      "cell_type": "code",
      "source": [
        "not not True"
      ],
      "execution_count": null,
      "outputs": []
    },
    {
      "metadata": {
        "_uuid": "c4830a133cdd79071a8c68ad633ff996b88856ed",
        "trusted": true,
        "id": "I9ozeFAEgGiG"
      },
      "cell_type": "code",
      "source": [
        "not note False"
      ],
      "execution_count": null,
      "outputs": []
    },
    {
      "metadata": {
        "trusted": true,
        "id": "bngPQPJ1gGiG"
      },
      "cell_type": "code",
      "source": [
        "# Truth table for AND\n",
        "print(\"Truth Table for AND logic\")\n",
        "print(\"True and True is:\", True and True)\n",
        "print(\"True and False is:\", True and False)\n",
        "print(\"False and True is:\", False and True)\n",
        "print(\"False and False is:\", False and False)"
      ],
      "execution_count": null,
      "outputs": []
    },
    {
      "metadata": {
        "trusted": true,
        "id": "LbK_HwtjgGiG"
      },
      "cell_type": "code",
      "source": [
        "# Truth table for OR\n",
        "print(\"Truth Table for OR logic\")\n",
        "print(\"True or True is:\", True or True)\n",
        "print(\"True or False is:\", True or False)\n",
        "print(\"False or True is:\", False or True)\n",
        "print(\"False or False is:\", False or False)"
      ],
      "execution_count": null,
      "outputs": []
    },
    {
      "metadata": {
        "_uuid": "c4830a133cdd79071a8c68ad633ff996b88856ed",
        "trusted": true,
        "id": "xzhRIRpJgGiG"
      },
      "cell_type": "code",
      "source": [
        "# Boolean values assigned to variables\n",
        "right_here_now = True\n",
        "learning_python = True\n",
        "on_the_moon = False\n",
        "\n",
        "# Ands need all values to be true for the entire expression to be True\n",
        "print(right_here_now and on_the_moon)\n",
        "\n",
        "\n",
        "# Read the line of code below and think about the result.\n",
        "# An OR statement only needs a single True for the entire expression to be True\n",
        "print(learning_python or on_the_moon)"
      ],
      "execution_count": null,
      "outputs": []
    },
    {
      "metadata": {
        "id": "ZXa7dPfdgGiH"
      },
      "cell_type": "markdown",
      "source": [
        "## 8. Conditional Logic with Conditionals\n",
        "- Using `if`\n",
        "- Using `if, else`\n",
        "- Using `if, elseif, else`"
      ]
    },
    {
      "metadata": {
        "id": "Y8YTNw2vgGiH"
      },
      "cell_type": "markdown",
      "source": [
        "### The \"if\" statement is how we write \"If this then that\"\n",
        "- If the code evalutates to `True` then Python runs the code that's indented after the \"if\" line"
      ]
    },
    {
      "metadata": {
        "_uuid": "c4830a133cdd79071a8c68ad633ff996b88856ed",
        "trusted": true,
        "id": "zdOb5VoKgGiH"
      },
      "cell_type": "code",
      "source": [
        "# the \"if\" evaluates the code to the right to see if it returns True or False.\n",
        "# If the code returns `True`, then we run the code that's indented below the if.\n",
        "\n",
        "right_here_now = True\n",
        "\n",
        "if right_here_now:\n",
        "    print(\"So glad you made it today!\")\n",
        "    print(\"Wherever you go, there you are.\")\n",
        "else:\n",
        "    print(\"You are not right here now.\")\n",
        "\n",
        "print(\"Unindented means the if/else is over, and we're back to our regularly scheduled programming.\")"
      ],
      "execution_count": null,
      "outputs": []
    },
    {
      "metadata": {
        "_uuid": "c4830a133cdd79071a8c68ad633ff996b88856ed",
        "trusted": true,
        "id": "fw6yJfz_gGiH"
      },
      "cell_type": "code",
      "source": [
        "# Before running this cell, think about and predict the outcome.\n",
        "# the \"if\" evaluates the code to the right to see if it returns True or False.\n",
        "# If true, then we run the code that's indented below the if.\n",
        "\n",
        "on_the_moon = False\n",
        "\n",
        "if on_the_moon:\n",
        "    print(\"You are currently on a lunar base.\")\n",
        "else:\n",
        "    print(\"You are not on the moon!\")\n"
      ],
      "execution_count": null,
      "outputs": []
    },
    {
      "metadata": {
        "_uuid": "c4830a133cdd79071a8c68ad633ff996b88856ed",
        "trusted": true,
        "id": "FqsvuzmYgGiH"
      },
      "cell_type": "code",
      "source": [
        "# Before running this cell, think about and predict the outcome.\n",
        "\n",
        "if right_here_now and learning_python:\n",
        "    print(\"We are right here now and learning python.\")\n"
      ],
      "execution_count": null,
      "outputs": []
    },
    {
      "metadata": {
        "_uuid": "c4830a133cdd79071a8c68ad633ff996b88856ed",
        "trusted": true,
        "id": "GsG8-VxggGiH"
      },
      "cell_type": "code",
      "source": [
        "# Before running this cell, think about and predict the outcome.\n",
        "if right_here_now and learning_python and on_the_moon:\n",
        "    print(\"You must be magic since you're on the moon and here and learning Python all at the same time.\")\n"
      ],
      "execution_count": null,
      "outputs": []
    },
    {
      "metadata": {
        "_uuid": "c4830a133cdd79071a8c68ad633ff996b88856ed",
        "trusted": true,
        "id": "B7nrKJMRgGiH"
      },
      "cell_type": "code",
      "source": [
        "# Before running this cell, think about and predict the outcome.\n",
        "if right_here_now or on_the_moon:\n",
        "    print(\"How many True values does it take with an OR for the entirety to be True?\")\n"
      ],
      "execution_count": null,
      "outputs": []
    },
    {
      "metadata": {
        "_uuid": "c4830a133cdd79071a8c68ad633ff996b88856ed",
        "trusted": true,
        "id": "xlzfkJ-GgGiH"
      },
      "cell_type": "code",
      "source": [
        "\n",
        "# Before running this cell, think about and predict the outcome.\n",
        "# Carefully consider the parentheses...\n",
        "if learning_python and (right_here_now or on_the_moon):\n",
        "    print(\"In addition to learning python, you are either right here now or on the moon\")"
      ],
      "execution_count": null,
      "outputs": []
    },
    {
      "metadata": {
        "trusted": true,
        "id": "IXD14m3NgGiH"
      },
      "cell_type": "code",
      "source": [
        "# Exercise: Create a variable called is_raining and assign it True or False depending on if it's raining right now\n"
      ],
      "execution_count": null,
      "outputs": []
    },
    {
      "metadata": {
        "trusted": true,
        "id": "TwSfl40CgGiH"
      },
      "cell_type": "code",
      "source": [
        "# Exercise: Create a variable named will_rain_later and assign a value of True or False if it may rain later today\n"
      ],
      "execution_count": null,
      "outputs": []
    },
    {
      "metadata": {
        "trusted": true,
        "id": "99yHdCcdgGiH"
      },
      "cell_type": "code",
      "source": [
        "# Exercise: Create an \"if\" condition that checks if it's raining now or later.\n",
        "# If it is going to rain now or later, then print out \"I'll bring an umbrella\"\n"
      ],
      "execution_count": null,
      "outputs": []
    },
    {
      "metadata": {
        "id": "re5O5WGzgGiH"
      },
      "cell_type": "markdown",
      "source": [
        "# Part II -  Lists, Dictionaries, and Functions\n",
        "- With programming and analysis, we work with lots of lists of numbers.\n",
        "- The primary data type in Python for holding lists of numbers is called a list. It's like an array in other programming languages."
      ]
    },
    {
      "metadata": {
        "id": "cSUancvpgGiI"
      },
      "cell_type": "markdown",
      "source": [
        "### Lists are ordered lists of values.\n",
        "- Created with square brackets\n",
        "- Lists can hold any value(s)\n",
        "- Lists can hold lists.\n",
        "- Think of a list as a column of values in a spreadsheet (1 dimensional list)\n",
        "- Think of a list of lists as an the entire spreadsheet  (2 dimensional list)\n",
        "- We can have lists of lists of lists, and that's like having a workbook of spreadsheets (3 dimensions)\n",
        "- There are other types of sequences and collections in Python, but lists are a solid start!"
      ]
    },
    {
      "metadata": {
        "trusted": true,
        "id": "Gf3cyNuigGiI",
        "outputId": "f130435f-b610-4f88-8143-829309f52dc0",
        "colab": {
          "base_uri": "https://localhost:8080/"
        }
      },
      "cell_type": "code",
      "source": [
        "# Lists are created with square brackets. Each item on the list is separated by a comma. Lists can hold any data type\n",
        "bombus = [\"impatiens\", \"affinis\", \"griseocollis\"]\n",
        "print(bombus)"
      ],
      "execution_count": null,
      "outputs": [
        {
          "output_type": "stream",
          "name": "stdout",
          "text": [
            "['impatiens', 'affinis', 'griseocollis']\n"
          ]
        }
      ]
    },
    {
      "metadata": {
        "trusted": true,
        "id": "RxtkvmYhgGiI"
      },
      "cell_type": "code",
      "source": [
        "# Lists have built-in functions\n",
        "bombus.append(\"bimaculatus\") # Don't forget Ringo"
      ],
      "execution_count": null,
      "outputs": []
    },
    {
      "metadata": {
        "trusted": true,
        "id": "qjnvyRVagGiI",
        "outputId": "83ba713c-6015-4fbd-9d77-2fec07909d06",
        "colab": {
          "base_uri": "https://localhost:8080/"
        }
      },
      "cell_type": "code",
      "source": [
        "bombus"
      ],
      "execution_count": null,
      "outputs": [
        {
          "output_type": "execute_result",
          "data": {
            "text/plain": [
              "['impatiens', 'affinis', 'griseocollis', 'bimaculatus']"
            ]
          },
          "metadata": {},
          "execution_count": 3
        }
      ]
    },
    {
      "metadata": {
        "trusted": true,
        "id": "SXxzQBWtgGiI"
      },
      "cell_type": "code",
      "source": [
        "# .append and .reverse are some of the built-in list functions\n",
        "bombus.reverse()\n",
        "print(bombus)"
      ],
      "execution_count": null,
      "outputs": []
    },
    {
      "metadata": {
        "trusted": true,
        "id": "6_Pn4GjOgGiI"
      },
      "cell_type": "code",
      "source": [
        "bombus"
      ],
      "execution_count": null,
      "outputs": []
    },
    {
      "metadata": {
        "trusted": true,
        "id": "F3RW9lj8gGiI"
      },
      "cell_type": "code",
      "source": [
        "# We can also use lists to hold numbers\n",
        "odds = [1, 3, 5, 7, 9, 11, 13, 17, 19, 21]\n",
        "odds"
      ],
      "execution_count": null,
      "outputs": []
    },
    {
      "metadata": {
        "trusted": true,
        "id": "fGu4Hf13gGiI"
      },
      "cell_type": "code",
      "source": [
        "# for variable in list:\n",
        "# For each number in the list of odds, do something\n",
        "# thing we do each time through the loop IS the code indented within that loop\n",
        "# for new_variable in list_variable\n",
        "for number in odds:\n",
        "    print(number)\n",
        "    print(\"The loop is going\")\n",
        "print(\"The Loop is complete.\")"
      ],
      "execution_count": null,
      "outputs": []
    },
    {
      "metadata": {
        "trusted": true,
        "id": "rFRv865rgGiI"
      },
      "cell_type": "code",
      "source": [
        "for number in odds:\n",
        "    print(number + 10)"
      ],
      "execution_count": null,
      "outputs": []
    },
    {
      "metadata": {
        "_uuid": "2fa39d1e0b03a084c2a3b409a3f71194d2d40372",
        "id": "GyBstsmlgGiI"
      },
      "cell_type": "markdown",
      "source": [
        "### Functions\n",
        "There are 2 kinds of functions in Python: built-in and user defined functions.\n",
        "\n",
        "Some built in functions:\n",
        "- type, print, len, sum, abs, range, list, min, max, round, etc...\n",
        "- For a complete list of build in functions, see https://docs.python.org/3/library/functions.html\n"
      ]
    },
    {
      "metadata": {
        "trusted": true,
        "id": "2JF-wdJ6gGiI"
      },
      "cell_type": "code",
      "source": [
        "# sum is a built in function\n",
        "numbers = [2, 3, 5, 7]\n",
        "sum(numbers)"
      ],
      "execution_count": null,
      "outputs": []
    },
    {
      "metadata": {
        "trusted": true,
        "id": "gv2dF-1ogGiJ"
      },
      "cell_type": "code",
      "source": [
        "# len is a built-in function short for length\n",
        "len(numbers)"
      ],
      "execution_count": null,
      "outputs": []
    },
    {
      "metadata": {
        "trusted": true,
        "id": "LeUIy9V9gGiJ"
      },
      "cell_type": "code",
      "source": [
        "# calculate the average of a list of numbers\n",
        "sum(numbers) / len(numbers)"
      ],
      "execution_count": null,
      "outputs": []
    },
    {
      "metadata": {
        "trusted": true,
        "id": "BHXJf6iLgGiJ"
      },
      "cell_type": "code",
      "source": [
        "# The len function also works on strings\n",
        "programming_language = \"Python\"\n",
        "print(\"The number of letters in Python is\", len(programming_language))"
      ],
      "execution_count": null,
      "outputs": []
    },
    {
      "metadata": {
        "id": "esnKSivlgGiJ"
      },
      "cell_type": "markdown",
      "source": [
        "## Let's Create Some Example Functions\n",
        "\n",
        "Imagine the exercise asks us to write a function called is_five that takes in a variable and returns True/False if that variable is the number five.\n",
        "The function would look like this:\n",
        "\n",
        "```python\n",
        "def is_five(x):\n",
        "    result = x == 5\n",
        "    return result\n",
        "```\n",
        "\n",
        "Or we could write this a little more succinctly (since returning the result is the same as returning the expression assigned to the result variable)\n",
        "```python\n",
        "def is_five(x):\n",
        "    return x == 5\n",
        "```\n",
        "\n",
        "The result of this function is entirely dependent on the input values we send into the function.\n",
        "For example:\n",
        "- `is_five(10)` will return `False`\n",
        "- `is_five(-5)` returns `False` because -5 is not 5.\n",
        "- `is_five(\"hello\"`) returns `False` because the string \"hello\" certainly isn't the number 5.\n",
        "- `is_five(5)` returns `True` because 5 == 5 evaluates to True.\n",
        "\n",
        "Notice how this function is returning the result of a comparison operation and that the comparison operator will give us a True or a False, depending on the value contained in the input variable sent into the function.\n",
        "\n",
        "If the exercise was to make a function named is_more_than_three, we could define the function in the following way:\n",
        "```python\n",
        "def is_more_than_three(x):\n",
        "    return x > 3\n",
        "```\n",
        "\n",
        "Notice that we're returning the result of x > 3, which can change with different inputs.\n",
        "For example:\n",
        "- `is_more_than_three(10)` returns `True`\n",
        "- `is_more_than_three(30)` returns `True`\n",
        "- `is_more_than_three(3)` returns `False` (because 3 is not greater than 3)\n",
        "- `is_more_than_three(3.025`) returns `True` because 3.023 > 3 returns True.\n",
        "- `is_more_than_three(-23)` returns `False` b/c  negative 23 is less than 3.\n"
      ]
    },
    {
      "metadata": {
        "trusted": true,
        "id": "VwwKZgPKgGiJ"
      },
      "cell_type": "code",
      "source": [
        "# Exercise: Use the examples above to write a function called is_greater_than_1 that takes in an input and returns True/False if that number is greater than 1\n",
        "\n"
      ],
      "execution_count": null,
      "outputs": []
    },
    {
      "metadata": {
        "trusted": true,
        "id": "1so1fWC4gGiJ"
      },
      "cell_type": "code",
      "source": [
        "# Exercise: Use the examples above to write a function called is_less_than_100 that takes in an input and returns True/False if that number is less than 100\n"
      ],
      "execution_count": null,
      "outputs": []
    },
    {
      "metadata": {
        "trusted": true,
        "id": "IE0bU0nEgGiJ"
      },
      "cell_type": "code",
      "source": [
        "# how to define our own functions\n",
        "# def function_name(variable_name_for_the_input):\n",
        "#      output = guts of the function\n",
        "#      return output\n",
        "def is_even(number):\n",
        "    remainder = number % 2 # the % operator returns the remainder of integer division of the number on the left by the number on the right\n",
        "    if remainder == 0: # even numbers have no remainder\n",
        "        return True\n",
        "    else:\n",
        "        return False\n",
        "\n",
        "# calling a function means to run it\n",
        "print(is_even(2))\n",
        "print(is_even(4))\n",
        "print(is_even(2.3))\n",
        "print(is_even(3))"
      ],
      "execution_count": null,
      "outputs": []
    },
    {
      "metadata": {
        "_uuid": "c410084e558eb0215cd63e626d1116329aef9329",
        "trusted": true,
        "id": "lpZ9rzUCgGiJ"
      },
      "cell_type": "code",
      "source": [
        "# lots of built in functions work on sequences\n",
        "names = ['impatiens', 'affinis', 'griseocollis', 'bimaculatus']\n",
        "print(\"The number of items on the list is\", len(names))\n"
      ],
      "execution_count": null,
      "outputs": []
    },
    {
      "metadata": {
        "_uuid": "c410084e558eb0215cd63e626d1116329aef9329",
        "trusted": true,
        "id": "1KptEmpvgGiJ"
      },
      "cell_type": "code",
      "source": [
        "numbers = [2, 3, 5, 7]\n",
        "print(\"The highest number on the list is\", max(numbers))\n",
        "print(\"The smallest number on the list is\", min(numbers))"
      ],
      "execution_count": null,
      "outputs": []
    },
    {
      "metadata": {
        "_uuid": "975e69701f4384666bd841fcacc0b75c8caf0fee",
        "trusted": true,
        "id": "YrqW30j9gGiJ"
      },
      "cell_type": "code",
      "source": [
        "# def keyword to define, name_of_function, parentheses for parameters\n",
        "def square(number):\n",
        "    return number * number # return is the output we hand back to the code that called the function (calling == execute == run)"
      ],
      "execution_count": null,
      "outputs": []
    },
    {
      "metadata": {
        "trusted": true,
        "id": "8_rPM7ewgGiJ"
      },
      "cell_type": "code",
      "source": [
        "square(3)"
      ],
      "execution_count": null,
      "outputs": []
    },
    {
      "metadata": {
        "trusted": true,
        "id": "3i_7F7bhgGiJ"
      },
      "cell_type": "code",
      "source": [
        "square(4)"
      ],
      "execution_count": null,
      "outputs": []
    },
    {
      "metadata": {
        "_uuid": "6f3e14214a6d601f28e3a794cab504c67c74c0d8",
        "trusted": true,
        "id": "f3bIqd_JgGiJ"
      },
      "cell_type": "code",
      "source": [
        "# How to average a list of numbers.\n",
        "numbers = [2, 3, 5, 7]\n",
        "total = sum(numbers)\n",
        "average = total / len(numbers)\n",
        "average"
      ],
      "execution_count": null,
      "outputs": []
    },
    {
      "metadata": {
        "trusted": true,
        "id": "-2KjlW3GgGiK"
      },
      "cell_type": "code",
      "source": [
        "def average(numbers):\n",
        "    total = sum(numbers)\n",
        "    average = total / len(numbers)\n",
        "    return average"
      ],
      "execution_count": null,
      "outputs": []
    },
    {
      "metadata": {
        "trusted": true,
        "id": "YOaU7S_tgGiK"
      },
      "cell_type": "code",
      "source": [
        "print(average([1, 2, 3]))\n",
        "print(average([1, 2]))"
      ],
      "execution_count": null,
      "outputs": []
    },
    {
      "metadata": {
        "trusted": true,
        "id": "00fEG_mBgGiK"
      },
      "cell_type": "code",
      "source": [
        "# Max returns the longest string\n",
        "print(max([\"a\", \"aa\", \"aaa\"]))\n",
        "print(min([\"a\", \"aa\", \"aaa\"]))"
      ],
      "execution_count": null,
      "outputs": []
    },
    {
      "metadata": {
        "id": "0uhsTZHQgGiK"
      },
      "cell_type": "markdown",
      "source": [
        "## Introducing Dictionaries\n",
        "- Dictionaries are like \"labeled lists\"\n",
        "- Lists hold values in order and have a numeric index.\n",
        "- Dictionaries hold values and call them by a string index.\n",
        "- Dictionaries in the real world are like menus or nutritional facts tables"
      ]
    },
    {
      "metadata": {
        "trusted": true,
        "id": "EERBcuXvgGiK"
      },
      "cell_type": "code",
      "source": [
        "workshop = {\n",
        "    \"name\": \"Introduction to Python\",\n",
        "    \"instructor\": \"Bombus\",\n",
        "    \"platform\": \"Python in Google Colab\"\n",
        "}"
      ],
      "execution_count": null,
      "outputs": []
    },
    {
      "metadata": {
        "trusted": true,
        "id": "XTGuHZJjgGiK"
      },
      "cell_type": "code",
      "source": [
        "# We use the variable that holds the dictionary followed by square brackets (like a list), with the string holding the key name.\n",
        "workshop[\"name\"]"
      ],
      "execution_count": null,
      "outputs": []
    },
    {
      "metadata": {
        "trusted": true,
        "id": "1zomv3KBgGiK"
      },
      "cell_type": "code",
      "source": [
        "workshop[\"platform\"]"
      ],
      "execution_count": null,
      "outputs": []
    },
    {
      "metadata": {
        "trusted": true,
        "id": "QWmBXgz6gGiK"
      },
      "cell_type": "code",
      "source": [
        "# To add new values to a dictionary, use a new key name\n",
        "workshop[\"programming_language\"] = \"Python\"\n",
        "workshop[\"language_version\"] = 3.6\n",
        "\n",
        "workshop"
      ],
      "execution_count": null,
      "outputs": []
    },
    {
      "metadata": {
        "trusted": true,
        "id": "OnbadSrWgGiK"
      },
      "cell_type": "code",
      "source": [
        "# Exercise\n",
        "# Add a new key=>value pair to the \"workshop\" dictionary variable.\n",
        "# The key should be called \"my_name\" and the value should be a string holding your name\n",
        "\n"
      ],
      "execution_count": null,
      "outputs": []
    },
    {
      "metadata": {
        "trusted": true,
        "id": "c4Vz7kmqgGiK"
      },
      "cell_type": "code",
      "source": [
        "# Exercise\n",
        "# Make a new variable called preferences.\n",
        "# Set up a key for \"favorite_number\" and assign a value\n",
        "# Setup a key for \"favorite_color\" and assign a string with your favorite number\n"
      ],
      "execution_count": null,
      "outputs": []
    }
  ]
}